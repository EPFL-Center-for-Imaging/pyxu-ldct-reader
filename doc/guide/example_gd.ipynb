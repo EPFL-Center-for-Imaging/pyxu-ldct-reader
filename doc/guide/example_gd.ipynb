{
 "cells": [
  {
   "cell_type": "markdown",
   "source": [
    "Gradient Descent Optimization with `pyxu-gradient-descent`\n",
    "\n",
    "Welcome to the user guide on how to use the `pyxu-gradient-descent` package for gradient descent optimization in computational imaging. In this guide, we will walk you through a simple example demonstrating how to use the `GradientDescent` class to minimize a function using the gradient descent algorithm.\n",
    "\n",
    "## Prerequisites\n",
    "\n",
    "Ensure that you have the `pyxu-gradient-descent` package installed in your Python environment. You can install it using the following command:"
   ],
   "metadata": {
    "collapsed": false
   },
   "id": "8c109fdd75202a4b"
  },
  {
   "cell_type": "code",
   "execution_count": 1,
   "outputs": [
    {
     "name": "stdout",
     "output_type": "stream",
     "text": [
      "Looking in indexes: https://pypi.org/simple, https://pypi.ngc.nvidia.com\r\n",
      "Requirement already satisfied: pyxu-gradient-descent in /home/joan/Documents/git/pyxu-gradient-descent/src (0.1.2.dev4)\r\n",
      "Requirement already satisfied: pyxu in /home/joan/Documents/git/pyxu/src (from pyxu-gradient-descent) (1.0.1.dev111)\r\n",
      "Requirement already satisfied: numpy<2,>=1.24 in /home/joan/miniconda3/envs/grad_desc/lib/python3.11/site-packages (from pyxu->pyxu-gradient-descent) (1.24.4)\r\n",
      "Requirement already satisfied: scipy<2,>=1.11 in /home/joan/miniconda3/envs/grad_desc/lib/python3.11/site-packages (from pyxu->pyxu-gradient-descent) (1.11.2)\r\n",
      "Requirement already satisfied: dask[array,diagnostics,distributed]<2023.12,>=2023.7 in /home/joan/miniconda3/envs/grad_desc/lib/python3.11/site-packages (from pyxu->pyxu-gradient-descent) (2023.9.1)\r\n",
      "Requirement already satisfied: sparse<1,>=0.14 in /home/joan/miniconda3/envs/grad_desc/lib/python3.11/site-packages (from pyxu->pyxu-gradient-descent) (0.14.0)\r\n",
      "Requirement already satisfied: numba<1,>=0.57 in /home/joan/miniconda3/envs/grad_desc/lib/python3.11/site-packages (from pyxu->pyxu-gradient-descent) (0.57.1)\r\n",
      "Requirement already satisfied: packaging>=23.1 in /home/joan/miniconda3/envs/grad_desc/lib/python3.11/site-packages (from pyxu->pyxu-gradient-descent) (23.1)\r\n",
      "Requirement already satisfied: click>=8.0 in /home/joan/miniconda3/envs/grad_desc/lib/python3.11/site-packages (from dask[array,diagnostics,distributed]<2023.12,>=2023.7->pyxu->pyxu-gradient-descent) (8.1.7)\r\n",
      "Requirement already satisfied: cloudpickle>=1.5.0 in /home/joan/miniconda3/envs/grad_desc/lib/python3.11/site-packages (from dask[array,diagnostics,distributed]<2023.12,>=2023.7->pyxu->pyxu-gradient-descent) (2.2.1)\r\n",
      "Requirement already satisfied: fsspec>=2021.09.0 in /home/joan/miniconda3/envs/grad_desc/lib/python3.11/site-packages (from dask[array,diagnostics,distributed]<2023.12,>=2023.7->pyxu->pyxu-gradient-descent) (2023.9.0)\r\n",
      "Requirement already satisfied: partd>=1.2.0 in /home/joan/miniconda3/envs/grad_desc/lib/python3.11/site-packages (from dask[array,diagnostics,distributed]<2023.12,>=2023.7->pyxu->pyxu-gradient-descent) (1.4.0)\r\n",
      "Requirement already satisfied: pyyaml>=5.3.1 in /home/joan/miniconda3/envs/grad_desc/lib/python3.11/site-packages (from dask[array,diagnostics,distributed]<2023.12,>=2023.7->pyxu->pyxu-gradient-descent) (6.0.1)\r\n",
      "Requirement already satisfied: toolz>=0.10.0 in /home/joan/miniconda3/envs/grad_desc/lib/python3.11/site-packages (from dask[array,diagnostics,distributed]<2023.12,>=2023.7->pyxu->pyxu-gradient-descent) (0.12.0)\r\n",
      "Requirement already satisfied: importlib-metadata>=4.13.0 in /home/joan/miniconda3/envs/grad_desc/lib/python3.11/site-packages (from dask[array,diagnostics,distributed]<2023.12,>=2023.7->pyxu->pyxu-gradient-descent) (6.8.0)\r\n",
      "Requirement already satisfied: bokeh>=2.4.2 in /home/joan/miniconda3/envs/grad_desc/lib/python3.11/site-packages (from dask[array,diagnostics,distributed]<2023.12,>=2023.7->pyxu->pyxu-gradient-descent) (3.2.2)\r\n",
      "Requirement already satisfied: jinja2>=2.10.3 in /home/joan/miniconda3/envs/grad_desc/lib/python3.11/site-packages (from dask[array,diagnostics,distributed]<2023.12,>=2023.7->pyxu->pyxu-gradient-descent) (3.1.2)\r\n",
      "Requirement already satisfied: distributed==2023.9.1 in /home/joan/miniconda3/envs/grad_desc/lib/python3.11/site-packages (from dask[array,diagnostics,distributed]<2023.12,>=2023.7->pyxu->pyxu-gradient-descent) (2023.9.1)\r\n",
      "Requirement already satisfied: locket>=1.0.0 in /home/joan/miniconda3/envs/grad_desc/lib/python3.11/site-packages (from distributed==2023.9.1->dask[array,diagnostics,distributed]<2023.12,>=2023.7->pyxu->pyxu-gradient-descent) (1.0.0)\r\n",
      "Requirement already satisfied: msgpack>=1.0.0 in /home/joan/miniconda3/envs/grad_desc/lib/python3.11/site-packages (from distributed==2023.9.1->dask[array,diagnostics,distributed]<2023.12,>=2023.7->pyxu->pyxu-gradient-descent) (1.0.5)\r\n",
      "Requirement already satisfied: psutil>=5.7.2 in /home/joan/miniconda3/envs/grad_desc/lib/python3.11/site-packages (from distributed==2023.9.1->dask[array,diagnostics,distributed]<2023.12,>=2023.7->pyxu->pyxu-gradient-descent) (5.9.0)\r\n",
      "Requirement already satisfied: sortedcontainers>=2.0.5 in /home/joan/miniconda3/envs/grad_desc/lib/python3.11/site-packages (from distributed==2023.9.1->dask[array,diagnostics,distributed]<2023.12,>=2023.7->pyxu->pyxu-gradient-descent) (2.4.0)\r\n",
      "Requirement already satisfied: tblib>=1.6.0 in /home/joan/miniconda3/envs/grad_desc/lib/python3.11/site-packages (from distributed==2023.9.1->dask[array,diagnostics,distributed]<2023.12,>=2023.7->pyxu->pyxu-gradient-descent) (2.0.0)\r\n",
      "Requirement already satisfied: tornado>=6.0.4 in /home/joan/miniconda3/envs/grad_desc/lib/python3.11/site-packages (from distributed==2023.9.1->dask[array,diagnostics,distributed]<2023.12,>=2023.7->pyxu->pyxu-gradient-descent) (6.3.3)\r\n",
      "Requirement already satisfied: urllib3>=1.24.3 in /home/joan/miniconda3/envs/grad_desc/lib/python3.11/site-packages (from distributed==2023.9.1->dask[array,diagnostics,distributed]<2023.12,>=2023.7->pyxu->pyxu-gradient-descent) (1.26.16)\r\n",
      "Requirement already satisfied: zict>=3.0.0 in /home/joan/miniconda3/envs/grad_desc/lib/python3.11/site-packages (from distributed==2023.9.1->dask[array,diagnostics,distributed]<2023.12,>=2023.7->pyxu->pyxu-gradient-descent) (3.0.0)\r\n",
      "Requirement already satisfied: llvmlite<0.41,>=0.40.0dev0 in /home/joan/miniconda3/envs/grad_desc/lib/python3.11/site-packages (from numba<1,>=0.57->pyxu->pyxu-gradient-descent) (0.40.1)\r\n",
      "Requirement already satisfied: contourpy>=1 in /home/joan/miniconda3/envs/grad_desc/lib/python3.11/site-packages (from bokeh>=2.4.2->dask[array,diagnostics,distributed]<2023.12,>=2023.7->pyxu->pyxu-gradient-descent) (1.1.0)\r\n",
      "Requirement already satisfied: pandas>=1.2 in /home/joan/miniconda3/envs/grad_desc/lib/python3.11/site-packages (from bokeh>=2.4.2->dask[array,diagnostics,distributed]<2023.12,>=2023.7->pyxu->pyxu-gradient-descent) (2.1.0)\r\n",
      "Requirement already satisfied: pillow>=7.1.0 in /home/joan/miniconda3/envs/grad_desc/lib/python3.11/site-packages (from bokeh>=2.4.2->dask[array,diagnostics,distributed]<2023.12,>=2023.7->pyxu->pyxu-gradient-descent) (10.0.0)\r\n",
      "Requirement already satisfied: xyzservices>=2021.09.1 in /home/joan/miniconda3/envs/grad_desc/lib/python3.11/site-packages (from bokeh>=2.4.2->dask[array,diagnostics,distributed]<2023.12,>=2023.7->pyxu->pyxu-gradient-descent) (2023.7.0)\r\n",
      "Requirement already satisfied: zipp>=0.5 in /home/joan/miniconda3/envs/grad_desc/lib/python3.11/site-packages (from importlib-metadata>=4.13.0->dask[array,diagnostics,distributed]<2023.12,>=2023.7->pyxu->pyxu-gradient-descent) (3.16.2)\r\n",
      "Requirement already satisfied: MarkupSafe>=2.0 in /home/joan/miniconda3/envs/grad_desc/lib/python3.11/site-packages (from jinja2>=2.10.3->dask[array,diagnostics,distributed]<2023.12,>=2023.7->pyxu->pyxu-gradient-descent) (2.1.1)\r\n",
      "Requirement already satisfied: python-dateutil>=2.8.2 in /home/joan/miniconda3/envs/grad_desc/lib/python3.11/site-packages (from pandas>=1.2->bokeh>=2.4.2->dask[array,diagnostics,distributed]<2023.12,>=2023.7->pyxu->pyxu-gradient-descent) (2.8.2)\r\n",
      "Requirement already satisfied: pytz>=2020.1 in /home/joan/miniconda3/envs/grad_desc/lib/python3.11/site-packages (from pandas>=1.2->bokeh>=2.4.2->dask[array,diagnostics,distributed]<2023.12,>=2023.7->pyxu->pyxu-gradient-descent) (2023.3.post1)\r\n",
      "Requirement already satisfied: tzdata>=2022.1 in /home/joan/miniconda3/envs/grad_desc/lib/python3.11/site-packages (from pandas>=1.2->bokeh>=2.4.2->dask[array,diagnostics,distributed]<2023.12,>=2023.7->pyxu->pyxu-gradient-descent) (2023.3)\r\n",
      "Requirement already satisfied: six>=1.5 in /home/joan/miniconda3/envs/grad_desc/lib/python3.11/site-packages (from python-dateutil>=2.8.2->pandas>=1.2->bokeh>=2.4.2->dask[array,diagnostics,distributed]<2023.12,>=2023.7->pyxu->pyxu-gradient-descent) (1.16.0)\r\n"
     ]
    }
   ],
   "source": [
    "!pip install pyxu-gradient-descent"
   ],
   "metadata": {
    "collapsed": false,
    "ExecuteTime": {
     "end_time": "2023-09-15T11:46:48.107225085Z",
     "start_time": "2023-09-15T11:46:45.762413285Z"
    }
   },
   "id": "823dd3cf26479ed2"
  },
  {
   "cell_type": "markdown",
   "source": [
    "## Step 1: Import Necessary Modules\n",
    "Before we begin, we need to import the class we have just added to the Pyxu package `GradientDescent`. We will also import NumPy and the Pyxu's `SquaredL2Norm` functional to create an example."
   ],
   "metadata": {
    "collapsed": false
   },
   "id": "c312635a65e51df6"
  },
  {
   "cell_type": "code",
   "execution_count": 2,
   "outputs": [
    {
     "name": "stderr",
     "output_type": "stream",
     "text": [
      "/home/joan/Documents/git/pyxu/src/pyxu/info/plugin.py:69: ContributionWarning: Plugin `GradientDescent` loaded, use with caution.\n",
      "  warnings.warn(f\"Plugin `{name}` loaded, use with caution.\", pxw.ContributionWarning)\n"
     ]
    }
   ],
   "source": [
    "import numpy as np\n",
    "from pyxu.operator import SquaredL2Norm\n",
    "from pyxu.opt.solver import GradientDescent"
   ],
   "metadata": {
    "collapsed": false,
    "ExecuteTime": {
     "end_time": "2023-09-15T11:46:48.607622149Z",
     "start_time": "2023-09-15T11:46:48.108234524Z"
    }
   },
   "id": "e215860ddf1f6d89"
  },
  {
   "cell_type": "markdown",
   "source": [
    "## Step 2: Define the Function to be Minimized\n",
    "\n",
    "In this example, we will minimize the Least Squares (LS) distance to a given vector (`y`). We will define this function using the `SquaredL2Norm` class from Pyxu."
   ],
   "metadata": {
    "collapsed": false
   },
   "id": "394ed152ddfec8c6"
  },
  {
   "cell_type": "code",
   "execution_count": 3,
   "outputs": [],
   "source": [
    "# Define the input vector\n",
    "y = np.array([0, 1, 0, 0, 2, 3, 0, 1, 4, 1, 0])\n",
    "# Define the dimension of the input vector\n",
    "N = len(y)\n",
    "# Create an instance of the SquaredL2Norm class\n",
    "sl2 = SquaredL2Norm(dim=N).asloss(y)"
   ],
   "metadata": {
    "collapsed": false,
    "ExecuteTime": {
     "end_time": "2023-09-15T11:46:48.612186661Z",
     "start_time": "2023-09-15T11:46:48.609548023Z"
    }
   },
   "id": "6d691aec775dea8a"
  },
  {
   "cell_type": "markdown",
   "source": [
    "## Step 3: Initialize the Gradient Descent Solver\n",
    "\n",
    "Next, we initialize the gradient descent solver with the function to be minimized."
   ],
   "metadata": {
    "collapsed": false
   },
   "id": "5b5bd3b89c5252d"
  },
  {
   "cell_type": "code",
   "execution_count": 4,
   "outputs": [],
   "source": [
    "# Create an instance of the GradientDescent class with the function to be minimized\n",
    "gd = GradientDescent(f=sl2, show_progress=False)"
   ],
   "metadata": {
    "collapsed": false,
    "ExecuteTime": {
     "end_time": "2023-09-15T11:46:48.622493771Z",
     "start_time": "2023-09-15T11:46:48.613593894Z"
    }
   },
   "id": "eba9542c3965e66e"
  },
  {
   "cell_type": "markdown",
   "source": [
    "## Step 4: Set Initial Point and Step Size\n",
    "\n",
    "We need to set an initial point for the gradient descent algorithm and optionally specify the step size (τ). If the step size is not specified, it will be automatically determined."
   ],
   "metadata": {
    "collapsed": false
   },
   "id": "482444781e3aa280"
  },
  {
   "cell_type": "code",
   "execution_count": 5,
   "outputs": [],
   "source": [
    "# Define an initial point\n",
    "x0 = np.random.randn(N)\n",
    "\n",
    "# Define the step size (optional)\n",
    "tau = 0.1"
   ],
   "metadata": {
    "collapsed": false,
    "ExecuteTime": {
     "end_time": "2023-09-15T11:46:48.650394677Z",
     "start_time": "2023-09-15T11:46:48.624414435Z"
    }
   },
   "id": "14d56df37587cdc2"
  },
  {
   "cell_type": "markdown",
   "source": [
    "## Step 5: Run the Gradient Descent Algorithm\n",
    "\n",
    "Now we are ready to run the gradient descent algorithm using the fit method of the GradientDescent class."
   ],
   "metadata": {
    "collapsed": false
   },
   "id": "f37dd2892e04f8ee"
  },
  {
   "cell_type": "code",
   "execution_count": 6,
   "outputs": [],
   "source": [
    "# Run the gradient descent algorithm\n",
    "gd.fit(x0=x0, tau=tau, acceleration=True, track_objective=True)"
   ],
   "metadata": {
    "collapsed": false,
    "ExecuteTime": {
     "end_time": "2023-09-15T11:46:48.908120642Z",
     "start_time": "2023-09-15T11:46:48.894190832Z"
    }
   },
   "id": "37141c3a3cba996"
  },
  {
   "cell_type": "markdown",
   "source": [
    "## Step 6: Retrieve the Solution\n",
    "\n",
    "After running the gradient descent algorithm, we can retrieve the solution using the solution method of the `GradientDescent` class."
   ],
   "metadata": {
    "collapsed": false
   },
   "id": "bcb54cf6308c359a"
  },
  {
   "cell_type": "code",
   "execution_count": 7,
   "outputs": [
    {
     "name": "stdout",
     "output_type": "stream",
     "text": [
      "Solution: [-3.27570848e-04  9.99706300e-01  1.56713285e-03  2.65776972e-05\n",
      "  1.99891020e+00  2.99674239e+00 -2.08196580e-04  9.99719493e-01\n",
      "  3.99658314e+00  9.99979286e-01 -1.47893029e-04]\n",
      "Solution is correct --> True\n"
     ]
    }
   ],
   "source": [
    "# Retrieve the solution\n",
    "solution = gd.solution()\n",
    "print(\"Solution:\", solution)\n",
    "print(f\"Solution is correct --> {np.allclose(y, solution, atol=1e-2)}\")"
   ],
   "metadata": {
    "collapsed": false,
    "ExecuteTime": {
     "end_time": "2023-09-15T11:46:49.958123967Z",
     "start_time": "2023-09-15T11:46:49.955701633Z"
    }
   },
   "id": "efa484f1e2c8197e"
  },
  {
   "cell_type": "markdown",
   "source": [
    "## Step 6: Retrieve the statistics during the optimization problem\n",
    "\n",
    "After running the gradient descent algorithm, we can also retrieve some interesting statistics, in this case, the relative error (`RelError[x]`) and the value for the objective function `objective_func` at each iteration:"
   ],
   "metadata": {
    "collapsed": false
   },
   "id": "35397872ff8bc3f6"
  },
  {
   "cell_type": "code",
   "execution_count": 8,
   "outputs": [
    {
     "data": {
      "text/plain": "array([( 0, 0.00000000e+00, 2.53759988e+01),\n       ( 1, 4.16710246e-01, 1.62406392e+01),\n       ( 2, 3.80357198e-01, 9.13535956e+00),\n       ( 3, 2.89979702e-01, 4.39146884e+00),\n       ( 4, 2.04252865e-01, 1.70487734e+00),\n       ( 5, 1.37938790e-01, 4.67148345e-01),\n       ( 6, 8.87222657e-02, 5.55415310e-02),\n       ( 7, 5.25220156e-02, 2.52948605e-03),\n       ( 8, 2.63193150e-02, 4.01507174e-02),\n       ( 9, 8.09182982e-03, 6.13165784e-02),\n       (10, 3.60051282e-03, 5.12772113e-02),\n       (11, 9.94832478e-03, 2.82655782e-02),\n       (12, 1.20984534e-02, 9.57267179e-03),\n       (13, 1.12348604e-02, 1.10825594e-03),\n       (14, 8.54853934e-03, 2.34850329e-04),\n       (15, 5.13271879e-03, 1.96149505e-03),\n       (16, 1.86075045e-03, 2.99650148e-03),\n       (17, 6.96761060e-04, 2.58402292e-03),\n       (18, 2.28543631e-03, 1.44474886e-03),\n       (19, 2.91598958e-03, 4.67193968e-04),\n       (20, 2.77623380e-03, 3.55711560e-05),\n       (21, 2.13752565e-03, 3.74053279e-05),\n       (22, 1.27736003e-03, 1.78192956e-04),\n       (23, 4.27274117e-04, 2.48726936e-04),\n       (24, 2.53927651e-04, 2.05378290e-04),\n       (25, 6.86132284e-04, 1.09009933e-04),\n       (26, 8.58921142e-04, 3.10681448e-05),\n       (27, 8.13423735e-04, 9.37723496e-07),\n       (28, 6.20327638e-04, 6.45812912e-06),\n       (29, 3.58603787e-04, 2.08760383e-05),\n       (30, 9.84143948e-05, 2.62691071e-05)],\n      dtype=[('iteration', '<i8'), ('RelError[x]', '<f8'), ('Memorize[objective_func]', '<f8')])"
     },
     "execution_count": 8,
     "metadata": {},
     "output_type": "execute_result"
    }
   ],
   "source": [
    "# Retrieve the stats\n",
    "data, history = gd.stats()\n",
    "history"
   ],
   "metadata": {
    "collapsed": false,
    "ExecuteTime": {
     "end_time": "2023-09-15T11:46:51.135810464Z",
     "start_time": "2023-09-15T11:46:51.134301831Z"
    }
   },
   "id": "62b57d61354d83f"
  },
  {
   "cell_type": "markdown",
   "source": [],
   "metadata": {
    "collapsed": false
   },
   "id": "bf00d3185343c536"
  },
  {
   "cell_type": "markdown",
   "source": [
    "## Step 7: Automatic Hyperparameter Tuning\n",
    "\n",
    "Take advantage of the automatic hyperparameter tuning feature available in `GradientDescent` to optimally determine the best value for the `tau` hyperparameter. Observe how leveraging this feature can enhance efficiency by facilitating a reduction in the number of iterations needed when the step size is chosen optimally."
   ],
   "metadata": {
    "collapsed": false
   },
   "id": "5de087e48a32c993"
  },
  {
   "cell_type": "code",
   "execution_count": 9,
   "outputs": [
    {
     "data": {
      "text/plain": "array([(0, 0.        , 25.37599877), (1, 2.08355123,  0.        ),\n       (2, 0.        ,  0.        )],\n      dtype=[('iteration', '<i8'), ('RelError[x]', '<f8'), ('Memorize[objective_func]', '<f8')])"
     },
     "execution_count": 9,
     "metadata": {},
     "output_type": "execute_result"
    }
   ],
   "source": [
    "gd.fit(x0=x0, acceleration=True, track_objective=True)\n",
    "_, history = gd.stats()\n",
    "history"
   ],
   "metadata": {
    "collapsed": false,
    "ExecuteTime": {
     "end_time": "2023-09-15T11:46:53.701282280Z",
     "start_time": "2023-09-15T11:46:53.693908290Z"
    }
   },
   "id": "5738195edf653a40"
  }
 ],
 "metadata": {
  "kernelspec": {
   "display_name": "Python 3",
   "language": "python",
   "name": "python3"
  },
  "language_info": {
   "codemirror_mode": {
    "name": "ipython",
    "version": 2
   },
   "file_extension": ".py",
   "mimetype": "text/x-python",
   "name": "python",
   "nbconvert_exporter": "python",
   "pygments_lexer": "ipython2",
   "version": "2.7.6"
  }
 },
 "nbformat": 4,
 "nbformat_minor": 5
}

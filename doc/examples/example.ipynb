{
 "cells": [
  {
   "cell_type": "markdown",
   "id": "8c109fdd75202a4b",
   "metadata": {
    "collapsed": false
   },
   "source": [
    "### Tutorial\n",
    "**Read and reconstruct LDCT-projections with Pyxu.**\n",
    "*Prerequisites*: ensure that you have the `pyxu-ldct-reader` package installed in your Python environment. You can install it using the following command:"
   ]
  },
  {
   "cell_type": "code",
   "execution_count": null,
   "id": "823dd3cf26479ed2",
   "metadata": {
    "collapsed": false
   },
   "outputs": [],
   "source": [
    "!pip install pyxu-ldct-reader"
   ]
  },
  {
   "cell_type": "markdown",
   "id": "c28b82372e44d5e0",
   "metadata": {
    "collapsed": false
   },
   "source": [
    "### Load data\n",
    "To reproduce this example, download the data contained in the TCIA Low Dose CT Image and Projection Data (LDCT-and-Projection-data) repository (https://doi.org/10.7937/9npb-2637)."
   ]
  },
  {
   "cell_type": "code",
   "execution_count": null,
   "id": "4ec650166ce2541b",
   "metadata": {
    "collapsed": false
   },
   "outputs": [],
   "source": [
    "import numpy as np\n",
    "\n",
    "# Parse dataset from dicom files, where:\n",
    "# proj_data is the projection data, given as the line integral of the linear attenuation coefficient (g/cm^3). Its unit is thus g/cm^2.\n",
    "# n_spec are ray directions for each projection.\n",
    "# t_spec are the offset specifications for each projection.\n",
    "from pyxu_ldct_reader.reader import load_projections\n",
    "folder = '/path/to/LDCT-and-Projection-data/C001/01-31-2022-NA-NA-49153/1.000000-Full Dose Projections-31861/'\n",
    "proj_data, n_spec, t_spec = load_projections(folder)\n",
    "\n",
    "# Use only 10% of the original dataset to have faster results.\n",
    "percentage_data = 10\n",
    "ids = np.arange(int(len(proj_data) * percentage_data/100))\n",
    "z_dim = int(314 * percentage_data/100)\n",
    "proj_data = proj_data[ids]\n",
    "n_spec = n_spec[ids]\n",
    "t_spec = t_spec[ids]\n",
    "\n",
    "# Print dataset shape\n",
    "print(proj_data.shape, proj_data.dtype)\n",
    "print(n_spec.shape, n_spec.dtype)\n",
    "print(t_spec.shape, t_spec.dtype)"
   ]
  },
  {
   "cell_type": "markdown",
   "id": "cfb8250caa7abb94",
   "metadata": {
    "collapsed": false
   },
   "source": [
    "### Define volume\n",
    "Shape and voxel size."
   ]
  },
  {
   "cell_type": "code",
   "execution_count": null,
   "id": "f8bf838917e07524",
   "metadata": {
    "collapsed": false
   },
   "outputs": [],
   "source": [
    "# Define reconstruction volume shape\n",
    "dim_shape = (512, 512, z_dim)\n",
    "\n",
    "# Define the voxel size \n",
    "pitch =[0.736328, 0.736328, 1.25]"
   ]
  },
  {
   "cell_type": "markdown",
   "id": "193082a3a3bfe8f9",
   "metadata": {
    "collapsed": false
   },
   "source": [
    "### Select hardware"
   ]
  },
  {
   "cell_type": "code",
   "execution_count": null,
   "id": "bb6dd7710ce7f0ae",
   "metadata": {
    "collapsed": false
   },
   "outputs": [],
   "source": [
    "# If you have a GPU, you can accelerate the reconstruction\n",
    "GPU = False    \n",
    "if GPU:\n",
    "    import cupy as cp\n",
    "    proj_data = cp.asarray(proj_data)\n",
    "    n_spec = cp.asarray(n_spec)\n",
    "    t_spec = cp.asarray(t_spec)"
   ]
  },
  {
   "cell_type": "markdown",
   "id": "bc66c2f8dd932f25",
   "metadata": {
    "collapsed": false
   },
   "source": [
    "### Define the forward model (X-Ray transform) based on the geometry"
   ]
  },
  {
   "cell_type": "code",
   "execution_count": null,
   "id": "5d2bd8099f5ff43d",
   "metadata": {
    "collapsed": false
   },
   "outputs": [],
   "source": [
    "# Shift to offset convention\n",
    "offset = pitch * np.array(dim_shape)[np.newaxis]/2\n",
    "\n",
    "# Instantiate XRayTransform\n",
    "from pyxu.operator.linop.xrt.ray import RayXRT\n",
    "xray_transform = RayXRT.init(\n",
    "    dim_shape=dim_shape,\n",
    "    pitch=pitch,\n",
    "    n_spec=n_spec.reshape(-1, 3),\n",
    "    t_spec=t_spec.reshape(-1, 3) + offset, \n",
    ")"
   ]
  },
  {
   "cell_type": "markdown",
   "id": "f0cec27eb44ad37d",
   "metadata": {
    "collapsed": false
   },
   "source": [
    "### Run backward projection (BP)"
   ]
  },
  {
   "cell_type": "code",
   "execution_count": null,
   "id": "e6dda9926019fd46",
   "metadata": {
    "collapsed": false
   },
   "outputs": [],
   "source": [
    "# Run backward projection at single (float32) precision.\n",
    "import pyxu.runtime as pxrt\n",
    "with pxrt.Precision(pxrt.Width.SINGLE):\n",
    "    bp = xray_transform.adjoint(proj_data.ravel()).reshape(dim_shape)"
   ]
  },
  {
   "cell_type": "markdown",
   "id": "eee5edd5d94c9c63",
   "metadata": {
    "collapsed": false
   },
   "source": [
    "### Run pseudo-inverse (PINV)"
   ]
  },
  {
   "cell_type": "code",
   "execution_count": null,
   "id": "cd99c4e92ca9823c",
   "metadata": {
    "collapsed": false
   },
   "outputs": [],
   "source": [
    "# Define a stopping criteria\n",
    "import pyxu.opt.stop as pxst\n",
    "stop_crit = pxst.RelError(eps=1e-4, var=\"x\", f=None, norm=2, satisfy_all=True) | pxst.MaxIter(200)\n",
    "    \n",
    "# Run optimization at single (float32) precision.\n",
    "import pyxu.runtime as pxrt\n",
    "with pxrt.Precision(pxrt.Width.SINGLE):\n",
    "    pinv = xray_transform.pinv(\n",
    "            proj_data.ravel(), \n",
    "            damp=10,\n",
    "            kwargs_init=dict(verbosity=10), \n",
    "            kwargs_fit=dict(stop_crit=stop_crit),\n",
    "    ).reshape(dim_shape)"
   ]
  },
  {
   "cell_type": "markdown",
   "id": "7464d8732623481",
   "metadata": {
    "collapsed": false
   },
   "source": [
    "### Save outputs"
   ]
  },
  {
   "cell_type": "code",
   "execution_count": null,
   "id": "44d0e49cd48d0b02",
   "metadata": {
    "collapsed": false
   },
   "outputs": [],
   "source": [
    "import tifffile\n",
    "if GPU:\n",
    "    bp = bp.get()\n",
    "    pinv = pinv.get()\n",
    "tifffile.imwrite('bp.tif', bp.transpose(2, 1, 0))\n",
    "tifffile.imwrite('pinv.tif', pinv.transpose(2, 1, 0))"
   ]
  }
 ],
 "metadata": {
  "kernelspec": {
   "display_name": "Python 3",
   "language": "python",
   "name": "python3"
  },
  "language_info": {
   "codemirror_mode": {
    "name": "ipython",
    "version": 2
   },
   "file_extension": ".py",
   "mimetype": "text/x-python",
   "name": "python",
   "nbconvert_exporter": "python",
   "pygments_lexer": "ipython2",
   "version": "2.7.6"
  }
 },
 "nbformat": 4,
 "nbformat_minor": 5
}
